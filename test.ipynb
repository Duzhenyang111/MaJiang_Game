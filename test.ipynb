{
 "cells": [
  {
   "cell_type": "code",
   "execution_count": 1,
   "metadata": {},
   "outputs": [],
   "source": [
    "tile = ['1m','2m','3s','4s','5p','6p','7p','8p','9p','1z','2z','3z','4z','5z','6z']\n"
   ]
  },
  {
   "cell_type": "code",
   "execution_count": 2,
   "metadata": {},
   "outputs": [
    {
     "data": {
      "text/plain": [
       "'6z'"
      ]
     },
     "execution_count": 2,
     "metadata": {},
     "output_type": "execute_result"
    }
   ],
   "source": [
    "tile[-1]"
   ]
  },
  {
   "cell_type": "code",
   "execution_count": 3,
   "metadata": {},
   "outputs": [],
   "source": [
    "def sort_key(tile):\n",
    "        if tile[-1] in ['m', 's', 'p']:\n",
    "            suit_order = {'m':0, 's':1, 'p':2}\n",
    "            num = int(tile[:-1])\n",
    "            return (suit_order[tile[-1]], num)\n",
    "        else:\n",
    "            zi_order = {'e':0, 's':1, 'w':2, 'n':3, 'z':4, 'f':5, 'b':6}\n",
    "            return (3, zi_order.get(tile, 7))"
   ]
  },
  {
   "cell_type": "code",
   "execution_count": 4,
   "metadata": {},
   "outputs": [
    {
     "data": {
      "text/plain": [
       "(3, 4)"
      ]
     },
     "execution_count": 4,
     "metadata": {},
     "output_type": "execute_result"
    }
   ],
   "source": [
    "sort_key('z')"
   ]
  },
  {
   "cell_type": "code",
   "execution_count": 5,
   "metadata": {},
   "outputs": [],
   "source": [
    "def sort_hand(hand):\n",
    "    def sort_key(tile):\n",
    "        if tile[-1] in ['m', 's', 'p']:\n",
    "            suit_order = {'m':0, 's':1, 'p':2}\n",
    "            num = int(tile[:-1])\n",
    "            return (suit_order[tile[-1]], num)\n",
    "        else:\n",
    "            zi_order = {'e':0, 's':1, 'w':2, 'n':3, 'z':4, 'f':5, 'b':6}\n",
    "            return (3, zi_order.get(tile, 7))\n",
    "    return sorted(hand, key=sort_key)"
   ]
  },
  {
   "cell_type": "code",
   "execution_count": 6,
   "metadata": {},
   "outputs": [
    {
     "data": {
      "text/plain": [
       "['1m',\n",
       " '2m',\n",
       " '3s',\n",
       " '4s',\n",
       " '5p',\n",
       " '6p',\n",
       " '7p',\n",
       " '8p',\n",
       " '9p',\n",
       " 'z',\n",
       " 'z',\n",
       " 'z',\n",
       " 'z',\n",
       " 'z',\n",
       " 'z']"
      ]
     },
     "execution_count": 6,
     "metadata": {},
     "output_type": "execute_result"
    }
   ],
   "source": [
    "sort_hand(['1m','2m','3s','4s','5p','6p','7p','8p','9p','z','z','z','z','z','z'])"
   ]
  },
  {
   "cell_type": "code",
   "execution_count": 7,
   "metadata": {},
   "outputs": [],
   "source": [
    "def check_win(self, hand):\n",
    "    def is_meld(tiles):\n",
    "        if len(tiles) < 3: return False\n",
    "        if tiles[0] == tiles[1] == tiles[2]: return True\n",
    "        if all(tile[-1] in ['m', 't', 'p'] for tile in tiles[:3]):\n",
    "            nums = [int(t[:-1]) for t in tiles[:3]]\n",
    "            if nums == [nums[0], nums[0]+1, nums[0]+2]:\n",
    "                return True\n",
    "        return False\n",
    "\n",
    "    def backtrack(tiles, melds, pair):\n",
    "        if not tiles:\n",
    "            return len(melds) == 4 and pair is not None\n",
    "        \n",
    "        for i in range(len(tiles)):\n",
    "            if not pair and i+1 < len(tiles) and tiles[i] == tiles[i+1]:\n",
    "                if backtrack(tiles[:i]+tiles[i+2:], melds, tiles[i]):\n",
    "                    return True\n",
    "            if i+2 < len(tiles) and is_meld(tiles[i:i+3]):\n",
    "                if backtrack(tiles[:i]+tiles[i+3:], melds+[tiles[i:i+3]], pair):\n",
    "                    return True\n",
    "        return False\n",
    "\n",
    "    sorted_tiles = sort_hand(hand.copy())\n",
    "    return backtrack(sorted_tiles, [], None)"
   ]
  },
  {
   "cell_type": "code",
   "execution_count": null,
   "metadata": {},
   "outputs": [],
   "source": [
    "from collections import Counter\n",
    "\n",
    "# 假设你的向量是 random_numbers\n",
    "random_numbers = [7, 1, 0, 4, 1, 1, 4, 6, 4, 2, 3, 0, 8, 6]\n",
    "\n",
    "# 使用 Counter 统计每个数字的个数\n",
    "count = Counter(random_numbers)\n",
    "\n",
    "# 将结果转换为字典并按顺序整合\n",
    "count_dict = {i: count.get(i, 0) for i in range(len(count))}\n",
    "print(count_dict)\n",
    "\n",
    "def qidui(hand):\n",
    "    count = Counter(hand)\n",
    "    for i in count.keys():\n",
    "        if i%2 != 0:\n",
    "            return False\n",
    "    return True\n",
    "\n",
    "def segment_true_dict(d):\n",
    "    segments = []\n",
    "    temp = {}\n",
    "    for k, v in d.items():\n",
    "        if v != 0:\n",
    "            temp[k] = v\n",
    "        else:\n",
    "            if temp:\n",
    "                segments.append(temp)\n",
    "                temp = {}\n",
    "    if temp:\n",
    "        segments.append(temp)\n",
    "    return segments\n",
    "\n",
    "segments_dict = segment_true_dict(count_dict)\n",
    "print(segments_dict)\n",
    "\n",
    "from itertools import combinations\n",
    "\n",
    "def generate_subsets(vector):\n",
    "    subsets = []\n",
    "    for r in range(len(vector) + 1):\n",
    "        subsets.extend(combinations(vector, r))\n",
    "    # 去除零集\n",
    "    subsets = [list(subset) for subset in subsets if subset]\n",
    "    return subsets\n",
    "\n",
    "def check_shunzi(hand_miss):\n",
    "    segments = segment_true_dict(hand_miss)\n",
    "    for seg in segments:\n",
    "            if len(seg) < 3 or sum(seg.values()) % 3 != 0:\n",
    "                return False\n",
    "            else:\n",
    "                for nums in seg:\n",
    "                    hand_miss[nums] -= 1\n",
    "                return(check_shunzi(hand_miss))\n",
    "    return True\n",
    "\n",
    "def self_remove_pro(over,removes):\n",
    "    over_store = over.copy()\n",
    "    if removes in over:\n",
    "        over_store.remove(removes)\n",
    "    return over_store"
   ]
  },
  {
   "cell_type": "code",
   "execution_count": 192,
   "metadata": {},
   "outputs": [],
   "source": [
    "def qidui(hand):\n",
    "    count = Counter(hand)\n",
    "    for i in count.values():\n",
    "        if i%2 != 0:\n",
    "            return False\n",
    "    return True\n",
    "\n",
    "def normal_hu(hand):\n",
    "    hand.sort()\n",
    "    count = Counter(hand)\n",
    "    over_2 = [i for i in count.keys() if count[i] >= 2]\n",
    "    over_3 = [i for i in count.keys() if count[i] >= 3]\n",
    "    over_3_sub = generate_subsets(over_3)\n",
    "    dynamic_dict = {i: count.get(i, 0) for i in range(10)}\n",
    "    dynamic_dict_store = dynamic_dict.copy()\n",
    "    for i in over_2: #确定雀头\n",
    "        dynamic_dict = dynamic_dict_store.copy()\n",
    "        dynamic_dict[i] -= 2\n",
    "        for sub in over_3_sub: #确定刻子\n",
    "            dynamic_dict_2 = dynamic_dict.copy()\n",
    "            sub_remove = self_remove_pro(sub,i)\n",
    "            #print(sub_remove)\n",
    "            for j in sub_remove:\n",
    "                dynamic_dict_2[j] -= 3\n",
    "            if check_shunzi(dynamic_dict):#确定顺子\n",
    "                print(hand,dynamic_dict_store.values(),'雀头',i)\n",
    "                print('胡了')\n",
    "                return True\n",
    "    return False\n",
    "    \n",
    "def hupai(hand):\n",
    "    return qidui(hand) or normal_hu(hand)"
   ]
  },
  {
   "cell_type": "code",
   "execution_count": 53,
   "metadata": {},
   "outputs": [
    {
     "name": "stdout",
     "output_type": "stream",
     "text": [
      "[{0: 2, 1: 3, 2: 1, 3: 1, 4: 3}, {6: 2, 7: 1, 8: 1}]\n"
     ]
    }
   ],
   "source": [
    "def segment_true_dict(d):\n",
    "    segments = []\n",
    "    temp = {}\n",
    "    for k, v in d.items():\n",
    "        if v != 0:\n",
    "            temp[k] = v\n",
    "        else:\n",
    "            if temp:\n",
    "                segments.append(temp)\n",
    "                temp = {}\n",
    "    if temp:\n",
    "        segments.append(temp)\n",
    "    return segments\n",
    "\n",
    "segments_dict = segment_true_dict(count_dict)\n",
    "print(segments_dict)"
   ]
  },
  {
   "cell_type": "code",
   "execution_count": 76,
   "metadata": {},
   "outputs": [],
   "source": [
    "#可以形成一丘\n",
    "shunzi_3 = ([1,2,1],[2,2,2],[3,3,3],[4,4,4])\n",
    "shunzi_4 = [[1,2,2,1]]\n",
    "shunzi_5 = [[1,2,3,3,2],[1,2,3,2,1],[2,2,3,1,1]]\n",
    "shunzi_6 = [[1,2,3,3,2,1],[1,2,3,2,1,2],[1,2,3,1,2,3],[1,2,3,2,3,1],[1,2,3,3,1,2],[1,2,3,1,3,2]]\n"
   ]
  },
  {
   "cell_type": "code",
   "execution_count": 163,
   "metadata": {},
   "outputs": [],
   "source": [
    "from itertools import combinations\n",
    "\n",
    "def generate_subsets(vector):\n",
    "    subsets = []\n",
    "    for r in range(len(vector) + 1):\n",
    "        subsets.extend(combinations(vector, r))\n",
    "    # 去除零集\n",
    "    subsets = [list(subset) for subset in subsets if subset]\n",
    "    return subsets"
   ]
  },
  {
   "cell_type": "code",
   "execution_count": 145,
   "metadata": {},
   "outputs": [],
   "source": [
    "def check_shunzi(hand_miss):\n",
    "    segments = segment_true_dict(hand_miss)\n",
    "    for seg in segments:\n",
    "            if len(seg) < 3 or sum(seg.values()) % 3 != 0:\n",
    "                return False\n",
    "            else:\n",
    "                for nums in seg:\n",
    "                    hand_miss[nums] -= 1\n",
    "                return(check_shunzi(hand_miss))\n",
    "    return True"
   ]
  },
  {
   "cell_type": "code",
   "execution_count": 179,
   "metadata": {},
   "outputs": [],
   "source": [
    "def self_remove_pro(over,removes):\n",
    "    over_store = over.copy()\n",
    "    if removes in over:\n",
    "        over_store.remove(removes)\n",
    "    return over_store"
   ]
  },
  {
   "cell_type": "code",
   "execution_count": 180,
   "metadata": {},
   "outputs": [
    {
     "data": {
      "text/plain": [
       "[1, 9]"
      ]
     },
     "execution_count": 180,
     "metadata": {},
     "output_type": "execute_result"
    }
   ],
   "source": [
    "self_remove_pro(over_2,7)"
   ]
  },
  {
   "cell_type": "code",
   "execution_count": 165,
   "metadata": {},
   "outputs": [
    {
     "data": {
      "text/plain": [
       "[[1],\n",
       " [5],\n",
       " [7],\n",
       " [9],\n",
       " [1, 5],\n",
       " [1, 7],\n",
       " [1, 9],\n",
       " [5, 7],\n",
       " [5, 9],\n",
       " [7, 9],\n",
       " [1, 5, 7],\n",
       " [1, 5, 9],\n",
       " [1, 7, 9],\n",
       " [5, 7, 9],\n",
       " [1, 5, 7, 9]]"
      ]
     },
     "execution_count": 165,
     "metadata": {},
     "output_type": "execute_result"
    }
   ],
   "source": [
    "generate_subsets(over_2)"
   ]
  },
  {
   "cell_type": "code",
   "execution_count": 195,
   "metadata": {},
   "outputs": [
    {
     "name": "stdout",
     "output_type": "stream",
     "text": [
      "[0, 1, 2, 3, 4, 5, 6, 6, 7, 7, 7, 7, 8, 8] dict_values([1, 1, 1, 1, 1, 1, 2, 4, 2, 0]) 雀头 7\n",
      "胡了\n",
      "[0, 0, 1, 1, 2, 2, 3, 4, 4, 4, 5, 6, 7, 8] dict_values([2, 2, 2, 1, 3, 1, 1, 1, 1, 0]) 雀头 4\n",
      "胡了\n",
      "[0, 1, 2, 3, 3, 4, 4, 5, 5, 7, 8, 8, 8, 9] dict_values([1, 1, 1, 2, 2, 2, 0, 1, 3, 1]) 雀头 8\n",
      "胡了\n",
      "[0, 1, 2, 3, 4, 5, 5, 6, 6, 7, 7, 7, 7, 8] dict_values([1, 1, 1, 1, 1, 2, 2, 4, 1, 0]) 雀头 7\n",
      "胡了\n",
      "[0, 1, 2, 3, 4, 5, 7, 7, 8, 8, 8, 8, 9, 9] dict_values([1, 1, 1, 1, 1, 1, 0, 2, 4, 2]) 雀头 8\n",
      "胡了\n"
     ]
    }
   ],
   "source": [
    "for inter in range(1000):\n",
    "    hand = [random.randint(0, 9) for _ in range(14)]\n",
    "    hand.sort()\n",
    "    hupai(hand)"
   ]
  },
  {
   "cell_type": "code",
   "execution_count": 209,
   "metadata": {},
   "outputs": [],
   "source": [
    "for inter in range(10000):\n",
    "    hand = [random.randint(0, 39) for _ in range(14)]\n",
    "    #hand = [1,1,1,2,2,2,3,3,3,4,5,6,5,5]\n",
    "    hand.sort()\n",
    "    count = Counter(hand)\n",
    "    over_2 = [i for i in count.keys() if count[i] >= 2]\n",
    "    over_3 = [i for i in count.keys() if count[i] >= 3]\n",
    "    over_3_sub = generate_subsets(over_3)\n",
    "    dynamic_dict = {i: count.get(i, 0) for i in range(40)}\n",
    "    dynamic_dict_store = dynamic_dict.copy()\n",
    "    for i in over_2: #确定雀头\n",
    "        dynamic_dict = dynamic_dict_store.copy()\n",
    "        dynamic_dict[i] -= 2\n",
    "        for sub in over_3_sub: #确定刻子\n",
    "            dynamic_dict_2 = dynamic_dict.copy()\n",
    "            sub_remove = self_remove_pro(sub,i)\n",
    "            #print(sub_remove)\n",
    "            for j in sub_remove:\n",
    "                dynamic_dict_2[j] -= 3\n",
    "            if check_shunzi(dynamic_dict):\n",
    "                print(hand,dynamic_dict_store.values(),'雀头',i)\n",
    "                print('胡了')\n",
    "                break\n",
    "                \n",
    "            "
   ]
  },
  {
   "cell_type": "code",
   "execution_count": 161,
   "metadata": {},
   "outputs": [
    {
     "name": "stdout",
     "output_type": "stream",
     "text": [
      "[(), (1,), (2,), (3,), (1, 2), (1, 3), (2, 3), (1, 2, 3)]\n",
      "[[1], [2], [3], [1, 2], [1, 3], [2, 3], [1, 2, 3]]\n"
     ]
    }
   ],
   "source": [
    "from itertools import combinations\n",
    "\n",
    "def generate_subsets(vector):\n",
    "    subsets = []\n",
    "    for r in range(len(vector) + 1):\n",
    "        subsets.extend(combinations(vector, r))\n",
    "    # 去除零集\n",
    "    subsets = [list(subset) for subset in subsets if subset]\n",
    "    return subsets\n",
    "\n",
    "# 示例向量\n",
    "vector = [1, 2, 3]\n",
    "subsets = generate_subsets(vector)\n",
    "print(subsets)"
   ]
  },
  {
   "cell_type": "code",
   "execution_count": 162,
   "metadata": {},
   "outputs": [
    {
     "name": "stdout",
     "output_type": "stream",
     "text": [
      "[[1], [2], [3], [1, 2], [1, 3], [2, 3], [1, 2, 3]]\n"
     ]
    }
   ],
   "source": [
    "from itertools import combinations\n",
    "\n",
    "def generate_subsets(vector):\n",
    "    subsets = []\n",
    "    for r in range(len(vector) + 1):\n",
    "        subsets.extend(combinations(vector, r))\n",
    "    # 去除零集\n",
    "    subsets = [list(subset) for subset in subsets if subset]\n",
    "    return subsets\n",
    "\n",
    "# 示例向量\n",
    "vector = [1, 2, 3]\n",
    "subsets = generate_subsets(vector)\n",
    "print(subsets)"
   ]
  },
  {
   "cell_type": "code",
   "execution_count": 149,
   "metadata": {},
   "outputs": [],
   "source": [
    "hand.sort()"
   ]
  },
  {
   "cell_type": "code",
   "execution_count": 150,
   "metadata": {},
   "outputs": [
    {
     "data": {
      "text/plain": [
       "[0, 1, 3, 3, 4, 5, 5, 6, 6, 7, 7, 8, 9, 9]"
      ]
     },
     "execution_count": 150,
     "metadata": {},
     "output_type": "execute_result"
    }
   ],
   "source": [
    "hand"
   ]
  },
  {
   "cell_type": "code",
   "execution_count": 84,
   "metadata": {},
   "outputs": [
    {
     "data": {
      "text/plain": [
       "True"
      ]
     },
     "execution_count": 84,
     "metadata": {},
     "output_type": "execute_result"
    }
   ],
   "source": [
    "list(seg.values()) in shunzi_3"
   ]
  },
  {
   "cell_type": "code",
   "execution_count": 60,
   "metadata": {},
   "outputs": [
    {
     "data": {
      "text/plain": [
       "2"
      ]
     },
     "execution_count": 60,
     "metadata": {},
     "output_type": "execute_result"
    }
   ],
   "source": [
    "len(segment_true_dict(dynamic_dict)[1])"
   ]
  },
  {
   "cell_type": "code",
   "execution_count": 59,
   "metadata": {},
   "outputs": [
    {
     "data": {
      "text/plain": [
       "4"
      ]
     },
     "execution_count": 59,
     "metadata": {},
     "output_type": "execute_result"
    }
   ],
   "source": [
    "sum(segment_true_dict(dynamic_dict)[0].values())"
   ]
  },
  {
   "cell_type": "code",
   "execution_count": 51,
   "metadata": {},
   "outputs": [
    {
     "name": "stdout",
     "output_type": "stream",
     "text": [
      "[True, True, True, True, True, True]\n",
      "[[True, True], [True], [True, True], [True]]\n",
      "{6: 2, 7: 1, 8: 1}\n",
      "[{0: 2, 1: 3, 2: 1, 3: 1, 4: 3}, {6: 2, 7: 1, 8: 1}]\n"
     ]
    }
   ],
   "source": [
    "def extract_true_between_false(vector):\n",
    "    result = []\n",
    "    temp = []\n",
    "    false_count = 0\n",
    "\n",
    "    for value in vector:\n",
    "        if value == False:\n",
    "            false_count += 1\n",
    "            if false_count == 2:\n",
    "                result.extend(temp)\n",
    "                temp = []\n",
    "                false_count = 1\n",
    "        else:\n",
    "            if false_count == 1:\n",
    "                temp.append(value)\n",
    "\n",
    "    return result\n",
    "\n",
    "# 示例向量\n",
    "vector = [False, True, True, False, True, False, True, True, False, True, False]\n",
    "result = extract_true_between_false(vector)\n",
    "print(result)\n",
    "def segment_true(vector):\n",
    "    segments = []\n",
    "    temp = []\n",
    "    for value in vector:\n",
    "        if value:\n",
    "            temp.append(value)\n",
    "        else:\n",
    "            if temp:\n",
    "                segments.append(temp)\n",
    "                temp = []\n",
    "    if temp:\n",
    "        segments.append(temp)\n",
    "    return segments\n",
    "\n",
    "segments = segment_true(vector)\n",
    "print(segments)\n",
    "def extract_true_between_false_dict(d):\n",
    "    result = {}\n",
    "    temp = {}\n",
    "    false_count = 0\n",
    "\n",
    "    for k, v in d.items():\n",
    "        if v == 0:\n",
    "            false_count += 1\n",
    "            if false_count == 2:\n",
    "                result.update(temp)\n",
    "                temp = {}\n",
    "                false_count = 1\n",
    "        else:\n",
    "            if false_count == 1:\n",
    "                temp[k] = v\n",
    "\n",
    "    return result\n",
    "\n",
    "result_dict = extract_true_between_false_dict(count_dict)\n",
    "print(result_dict)\n",
    "\n",
    "def segment_true_dict(d):\n",
    "    segments = []\n",
    "    temp = {}\n",
    "    for k, v in d.items():\n",
    "        if v != 0:\n",
    "            temp[k] = v\n",
    "        else:\n",
    "            if temp:\n",
    "                segments.append(temp)\n",
    "                temp = {}\n",
    "    if temp:\n",
    "        segments.append(temp)\n",
    "    return segments\n",
    "\n",
    "segments_dict = segment_true_dict(count_dict)\n",
    "print(segments_dict)"
   ]
  },
  {
   "cell_type": "code",
   "execution_count": 52,
   "metadata": {},
   "outputs": [
    {
     "data": {
      "text/plain": [
       "{0: 2, 1: 3, 2: 1, 3: 1, 4: 3, 5: 0, 6: 2, 7: 1, 8: 1, 9: 0}"
      ]
     },
     "execution_count": 52,
     "metadata": {},
     "output_type": "execute_result"
    }
   ],
   "source": [
    "count_dict"
   ]
  },
  {
   "cell_type": "code",
   "execution_count": 41,
   "metadata": {},
   "outputs": [
    {
     "data": {
      "text/plain": [
       "{0: 1, 1: 2, 2: 1, 3: 1, 4: 1, 5: 1, 6: 0, 7: 0, 8: 1, 9: 0}"
      ]
     },
     "execution_count": 41,
     "metadata": {},
     "output_type": "execute_result"
    }
   ],
   "source": [
    "dynamic_dict"
   ]
  },
  {
   "cell_type": "code",
   "execution_count": 42,
   "metadata": {},
   "outputs": [
    {
     "data": {
      "text/plain": [
       "2"
      ]
     },
     "execution_count": 42,
     "metadata": {},
     "output_type": "execute_result"
    }
   ],
   "source": [
    "dynamic_dict[1]"
   ]
  },
  {
   "cell_type": "code",
   "execution_count": 33,
   "metadata": {},
   "outputs": [
    {
     "data": {
      "text/plain": [
       "[1, 1, 1, 1, 0, 0, 0, 0]"
      ]
     },
     "execution_count": 33,
     "metadata": {},
     "output_type": "execute_result"
    }
   ],
   "source": [
    "sort_by_1"
   ]
  },
  {
   "cell_type": "code",
   "execution_count": 25,
   "metadata": {},
   "outputs": [
    {
     "name": "stdout",
     "output_type": "stream",
     "text": [
      "dict_values([2, 2, 4, 2, 2, 2])\n",
      "dict_values([4, 2, 2, 2, 2, 2])\n",
      "dict_values([2, 2, 2, 2, 2, 2, 2])\n",
      "dict_values([4, 2, 2, 2, 2, 2])\n",
      "dict_values([2, 2, 2, 4, 2, 2])\n",
      "dict_values([2, 2, 4, 2, 2, 2])\n",
      "dict_values([2, 2, 2, 2, 2, 2, 2])\n",
      "dict_values([4, 2, 2, 4, 2])\n",
      "dict_values([6, 2, 2, 2, 2])\n",
      "dict_values([4, 2, 2, 2, 2, 2])\n",
      "dict_values([2, 2, 2, 2, 2, 2, 2])\n",
      "dict_values([2, 4, 2, 2, 2, 2])\n",
      "dict_values([2, 4, 2, 2, 2, 2])\n",
      "dict_values([2, 2, 2, 4, 2, 2])\n",
      "dict_values([2, 4, 2, 2, 2, 2])\n",
      "dict_values([4, 2, 2, 2, 2, 2])\n",
      "dict_values([4, 2, 4, 2, 2])\n",
      "dict_values([4, 4, 2, 2, 2])\n",
      "dict_values([2, 2, 4, 2, 4])\n",
      "dict_values([6, 2, 2, 2, 2])\n",
      "dict_values([2, 4, 2, 4, 2])\n",
      "dict_values([2, 4, 2, 2, 2, 2])\n",
      "dict_values([2, 2, 2, 2, 2, 2, 2])\n",
      "dict_values([4, 2, 2, 4, 2])\n",
      "dict_values([2, 2, 2, 2, 2, 2, 2])\n"
     ]
    }
   ],
   "source": [
    "import random\n",
    "\n",
    "for inter in range(10000):\n",
    "    random_numbers = [random.randint(0, 9) for _ in range(14)]\n",
    "    if qidui(random_numbers):\n",
    "        #print(random_numbers)\n",
    "        print(Counter(random_numbers).values())"
   ]
  },
  {
   "cell_type": "code",
   "execution_count": 2,
   "metadata": {},
   "outputs": [
    {
     "name": "stdout",
     "output_type": "stream",
     "text": [
      "[3, 2, 1, 3, 2, 3, 2, 2, 2, 7, 4, 4, 2, 5]\n"
     ]
    }
   ],
   "source": [
    "import random\n",
    "\n",
    "random_numbers = [random.randint(0, 9) for _ in range(14)]\n",
    "print(random_numbers)"
   ]
  },
  {
   "cell_type": "code",
   "execution_count": 3,
   "metadata": {},
   "outputs": [
    {
     "name": "stdout",
     "output_type": "stream",
     "text": [
      "[1, 2, 2, 2, 2, 2, 2, 3, 3, 3, 4, 4, 5, 7]\n"
     ]
    }
   ],
   "source": [
    "random_numbers.sort()\n",
    "print(random_numbers)"
   ]
  },
  {
   "cell_type": "code",
   "execution_count": 31,
   "metadata": {},
   "outputs": [
    {
     "name": "stdout",
     "output_type": "stream",
     "text": [
      "{0: 2, 1: 3, 2: 1, 3: 1, 4: 3, 5: 0, 6: 2, 7: 1, 8: 1, 9: 0}\n"
     ]
    }
   ],
   "source": [
    "from collections import Counter\n",
    "\n",
    "# 假设你的向量是 random_numbers\n",
    "random_numbers = [7, 1, 0, 4, 1, 1, 4, 6, 4, 2, 3, 0, 8, 6]\n",
    "\n",
    "# 使用 Counter 统计每个数字的个数\n",
    "count = Counter(random_numbers)\n",
    "\n",
    "# 将结果转换为字典并按顺序整合\n",
    "count_dict = {i: count.get(i, 0) for i in range(10)}\n",
    "print(count_dict)"
   ]
  },
  {
   "cell_type": "code",
   "execution_count": 22,
   "metadata": {},
   "outputs": [
    {
     "data": {
      "text/plain": [
       "Counter({1: 3, 4: 3, 0: 2, 6: 2, 7: 1, 2: 1, 3: 1, 8: 1})"
      ]
     },
     "execution_count": 22,
     "metadata": {},
     "output_type": "execute_result"
    }
   ],
   "source": [
    "count"
   ]
  },
  {
   "cell_type": "code",
   "execution_count": 20,
   "metadata": {},
   "outputs": [
    {
     "data": {
      "text/plain": [
       "dict_keys([7, 1, 0, 4, 6, 2, 3, 8])"
      ]
     },
     "execution_count": 20,
     "metadata": {},
     "output_type": "execute_result"
    }
   ],
   "source": [
    "count.keys()"
   ]
  },
  {
   "cell_type": "code",
   "execution_count": 21,
   "metadata": {},
   "outputs": [
    {
     "data": {
      "text/plain": [
       "dict_values([1, 3, 2, 3, 2, 1, 1, 1])"
      ]
     },
     "execution_count": 21,
     "metadata": {},
     "output_type": "execute_result"
    }
   ],
   "source": [
    "count.values()"
   ]
  },
  {
   "cell_type": "code",
   "execution_count": 11,
   "metadata": {},
   "outputs": [
    {
     "name": "stdout",
     "output_type": "stream",
     "text": [
      "not qidui\n"
     ]
    }
   ],
   "source": [
    "for i in count.keys():\n",
    "    if i%2 != 0:\n",
    "        print('not qidui')\n",
    "        break"
   ]
  },
  {
   "cell_type": "code",
   "execution_count": 28,
   "metadata": {},
   "outputs": [
    {
     "name": "stdout",
     "output_type": "stream",
     "text": [
      "{0: 2, 1: 3, 2: 1, 3: 1, 4: 3, 5: 0, 6: 2, 7: 1, 8: 1, 9: 0}\n"
     ]
    }
   ],
   "source": [
    "from collections import Counter\n",
    "\n",
    "# 假设你的向量是 random_numbers\n",
    "random_numbers = [7, 1, 0, 4, 1, 1, 4, 6, 4, 2, 3, 0, 8, 6]\n",
    "\n",
    "# 使用 Counter 统计每个数字的个数\n",
    "count = Counter(random_numbers)\n",
    "\n",
    "# 将结果转换为字典并按顺序整合\n",
    "count_dict = {i: count.get(i, 0) for i in count.keys()}\n"
   ]
  },
  {
   "cell_type": "code",
   "execution_count": 39,
   "metadata": {},
   "outputs": [
    {
     "data": {
      "text/plain": [
       "Counter({1: 3, 0: 2, 2: 2, 9: 2, 3: 1, 4: 1, 6: 1, 7: 1, 8: 1})"
      ]
     },
     "execution_count": 39,
     "metadata": {},
     "output_type": "execute_result"
    }
   ],
   "source": [
    "count"
   ]
  },
  {
   "cell_type": "code",
   "execution_count": 41,
   "metadata": {},
   "outputs": [
    {
     "data": {
      "text/plain": [
       "{0: 2, 1: 3, 2: 2, 3: 1, 4: 1, 5: 0, 6: 1, 7: 1, 8: 1, 9: 2}"
      ]
     },
     "execution_count": 41,
     "metadata": {},
     "output_type": "execute_result"
    }
   ],
   "source": [
    "count_dict"
   ]
  },
  {
   "cell_type": "code",
   "execution_count": 33,
   "metadata": {},
   "outputs": [
    {
     "name": "stdout",
     "output_type": "stream",
     "text": [
      "{0: 2, 1: 3, 2: 2, 3: 1, 4: 1, 5: 0, 6: 1, 7: 1, 8: 1, 9: 2}\n"
     ]
    }
   ],
   "source": [
    "for i in range(10):\n",
    "    count_dict = {i: count.get(i, 0) for i in range(10)}\n",
    "print(count_dict)"
   ]
  },
  {
   "cell_type": "code",
   "execution_count": 13,
   "metadata": {},
   "outputs": [
    {
     "name": "stdout",
     "output_type": "stream",
     "text": [
      "[0, 1, 2, 9]\n"
     ]
    }
   ],
   "source": [
    "result = [k for k, v in count_dict.items() if v >= 2]\n",
    "print(result)"
   ]
  },
  {
   "cell_type": "code",
   "execution_count": 15,
   "metadata": {},
   "outputs": [
    {
     "name": "stdout",
     "output_type": "stream",
     "text": [
      "2\n",
      "3\n",
      "2\n",
      "2\n"
     ]
    }
   ],
   "source": [
    "for nums in result:\n",
    "    print(count_dict[nums])"
   ]
  },
  {
   "cell_type": "code",
   "execution_count": 17,
   "metadata": {},
   "outputs": [],
   "source": [
    "count_dict[1] -= 2"
   ]
  },
  {
   "cell_type": "code",
   "execution_count": 18,
   "metadata": {},
   "outputs": [
    {
     "data": {
      "text/plain": [
       "{0: 2, 1: 1, 2: 2, 3: 1, 4: 1, 5: 0, 6: 1, 7: 1, 8: 1, 9: 2}"
      ]
     },
     "execution_count": 18,
     "metadata": {},
     "output_type": "execute_result"
    }
   ],
   "source": [
    "count_dict"
   ]
  }
 ],
 "metadata": {
  "kernelspec": {
   "display_name": "github1",
   "language": "python",
   "name": "python3"
  },
  "language_info": {
   "codemirror_mode": {
    "name": "ipython",
    "version": 3
   },
   "file_extension": ".py",
   "mimetype": "text/x-python",
   "name": "python",
   "nbconvert_exporter": "python",
   "pygments_lexer": "ipython3",
   "version": "3.8.20"
  }
 },
 "nbformat": 4,
 "nbformat_minor": 2
}
